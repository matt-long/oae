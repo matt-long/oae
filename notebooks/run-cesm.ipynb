{
 "cells": [
  {
   "cell_type": "code",
   "execution_count": 1,
   "id": "5aaef2c0-8c5f-490d-aac6-a428407fc2f8",
   "metadata": {},
   "outputs": [],
   "source": [
    "%load_ext autoreload\n",
    "%autoreload 2"
   ]
  },
  {
   "cell_type": "code",
   "execution_count": 2,
   "id": "1414c944-85c0-44fe-8c2f-cd46cb926b0d",
   "metadata": {},
   "outputs": [],
   "source": [
    "import os\n",
    "import shutil\n",
    "from glob import glob\n",
    "import textwrap\n",
    "\n",
    "import yaml\n",
    "\n",
    "\n",
    "import numpy as np\n",
    "import xarray as xr\n",
    "\n",
    "import inspect\n",
    "import cesm_tools\n",
    "import pop_tools\n",
    "\n",
    "import oae_smyle"
   ]
  },
  {
   "cell_type": "code",
   "execution_count": null,
   "id": "dc699767-91e6-4bae-910d-b59140d7e21e",
   "metadata": {},
   "outputs": [],
   "source": []
  },
  {
   "cell_type": "code",
   "execution_count": 3,
   "id": "aad3c99f-5ba0-4147-bb76-70973c26c740",
   "metadata": {},
   "outputs": [
    {
     "data": {
      "text/plain": [
       "['/glade/work/mclong/oae/data/forcing/alk-forcing/point-source/santa-barbara.Jan1999.001.nc']"
      ]
     },
     "execution_count": 3,
     "metadata": {},
     "output_type": "execute_result"
    }
   ],
   "source": [
    "alk_forcing_spec = \"point-source\"\n",
    "pnt_src_forcing_files = sorted(\n",
    "    glob(f\"/glade/work/mclong/oae/data/forcing/alk-forcing/{alk_forcing_spec}/*.nc\")\n",
    ")\n",
    "pnt_src_forcing_files"
   ]
  },
  {
   "cell_type": "code",
   "execution_count": 4,
   "id": "128aedc4-f908-41c2-b160-62f5247bd25b",
   "metadata": {
    "tags": []
   },
   "outputs": [
    {
     "name": "stdout",
     "output_type": "stream",
     "text": [
      "Case smyle-fosi.point-source.santa-barbara.Jan1999.001 exists; skipping.\n"
     ]
    }
   ],
   "source": [
    "run_settings = dict(\n",
    "    stop_n=3,\n",
    "    stop_option=\"nyear\",\n",
    "    job_queue=\"economy\",\n",
    "    wallclock=\"12:00:00\",\n",
    ")\n",
    "\n",
    "for f in pnt_src_forcing_files:\n",
    "    alk_forcing = os.path.basename(f).replace(\".nc\", \"\")\n",
    "    case = f\"smyle-fosi.{alk_forcing_spec}.{alk_forcing}\"\n",
    "    oae_smyle.create_clone(\n",
    "        case, alk_forcing_file=f, submit=True, clobber=False, **run_settings\n",
    "    )"
   ]
  },
  {
   "cell_type": "code",
   "execution_count": 5,
   "id": "45eb0596-e9d8-4b17-aacb-95d9efc44ff4",
   "metadata": {},
   "outputs": [
    {
     "data": {
      "text/plain": [
       "['/glade/work/mclong/oae/data/forcing/alk-forcing/regional/lat-range-basin.000.nc',\n",
       " '/glade/work/mclong/oae/data/forcing/alk-forcing/regional/lat-range-basin.001.nc',\n",
       " '/glade/work/mclong/oae/data/forcing/alk-forcing/regional/lat-range-basin.002.nc',\n",
       " '/glade/work/mclong/oae/data/forcing/alk-forcing/regional/lat-range-basin.003.nc',\n",
       " '/glade/work/mclong/oae/data/forcing/alk-forcing/regional/lat-range-basin.004.nc',\n",
       " '/glade/work/mclong/oae/data/forcing/alk-forcing/regional/lat-range-basin.005.nc',\n",
       " '/glade/work/mclong/oae/data/forcing/alk-forcing/regional/lat-range-basin.006.nc',\n",
       " '/glade/work/mclong/oae/data/forcing/alk-forcing/regional/lat-range-basin.007.nc',\n",
       " '/glade/work/mclong/oae/data/forcing/alk-forcing/regional/lat-range-basin.008.nc',\n",
       " '/glade/work/mclong/oae/data/forcing/alk-forcing/regional/lat-range-basin.009.nc',\n",
       " '/glade/work/mclong/oae/data/forcing/alk-forcing/regional/lat-range-basin.010.nc',\n",
       " '/glade/work/mclong/oae/data/forcing/alk-forcing/regional/lat-range-basin.011.nc',\n",
       " '/glade/work/mclong/oae/data/forcing/alk-forcing/regional/lat-range-basin.2x.000.nc',\n",
       " '/glade/work/mclong/oae/data/forcing/alk-forcing/regional/lat-range-basin.constant-in-time.000.nc']"
      ]
     },
     "execution_count": 5,
     "metadata": {},
     "output_type": "execute_result"
    }
   ],
   "source": [
    "alk_forcing_spec = \"regional\"\n",
    "forcing_files = sorted(\n",
    "    glob(f\"/glade/work/mclong/oae/data/forcing/alk-forcing/{alk_forcing_spec}/*.nc\")\n",
    ")\n",
    "forcing_files"
   ]
  },
  {
   "cell_type": "code",
   "execution_count": 6,
   "id": "a99105cd-bf95-4535-88c1-ec52848d6d7e",
   "metadata": {
    "tags": []
   },
   "outputs": [
    {
     "name": "stdout",
     "output_type": "stream",
     "text": [
      "Case smyle-fosi.regional.lat-range-basin.000 exists; skipping.\n",
      "Case smyle-fosi.regional.lat-range-basin.001 exists; skipping.\n",
      "Case smyle-fosi.regional.lat-range-basin.002 exists; skipping.\n",
      "Case smyle-fosi.regional.lat-range-basin.003 exists; skipping.\n",
      "Case smyle-fosi.regional.lat-range-basin.004 exists; skipping.\n",
      "Case smyle-fosi.regional.lat-range-basin.005 exists; skipping.\n",
      "Case smyle-fosi.regional.lat-range-basin.006 exists; skipping.\n",
      "Case smyle-fosi.regional.lat-range-basin.007 exists; skipping.\n",
      "Case smyle-fosi.regional.lat-range-basin.008 exists; skipping.\n",
      "Case smyle-fosi.regional.lat-range-basin.009 exists; skipping.\n",
      "Case smyle-fosi.regional.lat-range-basin.010 exists; skipping.\n",
      "Case smyle-fosi.regional.lat-range-basin.011 exists; skipping.\n",
      "Case smyle-fosi.regional.lat-range-basin.2x.000 exists; skipping.\n",
      " Successfully created new case smyle-fosi.regional.lat-range-basin.constant-in-time.000 from clone case g.e22.GOMIPECOIAF_JRA-1p4-2018.TL319_g17.SMYLE.005 \n",
      "Setting Environment OMP_STACKSIZE=1024M\n",
      "Setting Environment TMPDIR=/glade/scratch/mclong\n",
      "Setting Environment MPI_TYPE_DEPTH=16\n",
      "Setting Environment MPI_IB_CONGESTED=1\n",
      "Setting resource.RLIMIT_STACK to -1 from (307200000, -1)\n"
     ]
    },
    {
     "name": "stderr",
     "output_type": "stream",
     "text": [
      "/glade/work/mclong/oae/cesm-cases/smyle-fosi.regional.lat-range-basin.constant-in-time.000/env_mach_specific.xml already exists, delete to replace\n",
      "/glade/work/mclong/oae/cesm-cases/smyle-fosi.regional.lat-range-basin.constant-in-time.000/env_mach_specific.xml already exists, delete to replace\n"
     ]
    },
    {
     "name": "stdout",
     "output_type": "stream",
     "text": [
      "job is case.run USER_REQUESTED_WALLTIME None USER_REQUESTED_QUEUE regular WALLTIME_FORMAT %H:%M:%S\n",
      "Creating batch scripts\n",
      "Writing case.run script from input template /glade/work/klindsay/cesm2_tags/cesm2.2.0/cime/config/cesm/machines/template.case.run\n",
      "Creating file .case.run\n",
      "Writing case.st_archive script from input template /glade/work/klindsay/cesm2_tags/cesm2.2.0/cime/config/cesm/machines/template.st_archive\n",
      "Creating file case.st_archive\n",
      "If an old case build already exists, might want to run 'case.build --clean' before building\n",
      "You can now run './preview_run' to get more info on how your case will be run\n"
     ]
    },
    {
     "name": "stderr",
     "output_type": "stream",
     "text": [
      "INFO: Running consistency check for /glade/u/home/mclong/codes/oae/notebooks/SourceMods-OAE/src.pop/diagnostics_latest.yaml\n",
      "INFO: Writing /glade/work/mclong/oae/cesm-cases/smyle-fosi.regional.lat-range-basin.constant-in-time.000/SourceMods/src.pop/diagnostics_latest.json\n"
     ]
    },
    {
     "name": "stdout",
     "output_type": "stream",
     "text": [
      "Setting Environment OMP_STACKSIZE=1024M\n",
      "Setting Environment TMPDIR=/glade/scratch/mclong\n",
      "Setting Environment MPI_TYPE_DEPTH=16\n",
      "Setting Environment MPI_IB_CONGESTED=1\n",
      "Setting resource.RLIMIT_STACK to -1 from (307200000, -1)\n",
      "Machine/Decomp/Pes configuration has already been done ...skipping\n",
      "If an old case build already exists, might want to run 'case.build --clean' before building\n",
      "You can now run './preview_run' to get more info on how your case will be run\n",
      "Setting Environment OMP_STACKSIZE=1024M\n",
      "Setting Environment TMPDIR=/glade/scratch/mclong\n",
      "Setting Environment MPI_TYPE_DEPTH=16\n",
      "Setting Environment MPI_IB_CONGESTED=1\n",
      "Setting resource.RLIMIT_STACK to -1 from (307200000, -1)\n",
      "GET_REFCASE is false, the user is expected to stage the refcase to the run directory.\n",
      "Creating component namelists\n",
      "  2022-05-06 12:23:09 atm \n",
      "   Calling /glade/work/klindsay/cesm2_tags/cesm2.2.0/cime/src/components/data_comps_mct/datm/cime_config/buildnml\n",
      "  2022-05-06 12:23:09 lnd \n",
      "   Calling /glade/work/klindsay/cesm2_tags/cesm2.2.0/cime/src/components/stub_comps_mct/slnd/cime_config/buildnml\n",
      "  2022-05-06 12:23:09 ice \n",
      "   Calling /glade/work/klindsay/cesm2_tags/cesm2.2.0/cime/../components/cice//cime_config/buildnml\n",
      "     ...buildnml calling cice buildcpp to set build time options\n",
      "  2022-05-06 12:23:09 ocn \n",
      "   Calling /glade/work/klindsay/cesm2_tags/cesm2.2.0/cime/../components/pop//cime_config/buildnml\n",
      "     ... buildnml: calling pop buildcpp to set build time options\n",
      "  2022-05-06 12:23:11 rof \n",
      "   Calling /glade/work/klindsay/cesm2_tags/cesm2.2.0/cime/src/components/data_comps_mct/drof/cime_config/buildnml\n",
      "  2022-05-06 12:23:11 glc \n",
      "   Calling /glade/work/klindsay/cesm2_tags/cesm2.2.0/cime/src/components/stub_comps_mct/sglc/cime_config/buildnml\n",
      "  2022-05-06 12:23:11 wav \n",
      "   Calling /glade/work/klindsay/cesm2_tags/cesm2.2.0/cime/../components/ww3//cime_config/buildnml\n",
      "  2022-05-06 12:23:11 iac \n",
      "   Running /glade/work/klindsay/cesm2_tags/cesm2.2.0/cime/src/components/stub_comps_mct/siac/cime_config/buildnml \n",
      "  2022-05-06 12:23:11 esp \n",
      "   Calling /glade/work/klindsay/cesm2_tags/cesm2.2.0/cime/src/components/stub_comps_mct/sesp/cime_config/buildnml\n",
      "  2022-05-06 12:23:11 cpl \n",
      "   Calling /glade/work/klindsay/cesm2_tags/cesm2.2.0/cime/src/drivers/mct/cime_config/buildnml\n",
      "Submitting command to PBS using account NCGD0011:\n",
      "    ./case.build\n",
      "\n",
      "Waiting for job 4096273.chadmin1.ib0.cheyenne.ucar.edu to start ... \n",
      "\n",
      "\n",
      "Building case in directory /glade/work/mclong/oae/cesm-cases/smyle-fosi.regional.lat-range-basin.constant-in-time.000\n",
      "sharedlib_only is False\n",
      "model_only is False\n",
      "Setting Environment OMP_STACKSIZE=1024M\n",
      "Setting Environment TMPDIR=/glade/scratch/mclong\n",
      "Setting Environment MPI_TYPE_DEPTH=16\n",
      "Setting Environment MPI_IB_CONGESTED=1\n",
      "Setting resource.RLIMIT_STACK to -1 from (-1, -1)\n",
      "Generating component namelists as part of build\n",
      "GET_REFCASE is false, the user is expected to stage the refcase to the run directory.\n",
      "Creating component namelists\n",
      "  2022-05-06 12:23:32 atm \n",
      "   Calling /glade/work/klindsay/cesm2_tags/cesm2.2.0/cime/src/components/data_comps_mct/datm/cime_config/buildnml\n",
      "  2022-05-06 12:23:32 lnd \n",
      "   Calling /glade/work/klindsay/cesm2_tags/cesm2.2.0/cime/src/components/stub_comps_mct/slnd/cime_config/buildnml\n",
      "  2022-05-06 12:23:32 ice \n",
      "   Calling /glade/work/klindsay/cesm2_tags/cesm2.2.0/cime/../components/cice//cime_config/buildnml\n",
      "     ...buildnml calling cice buildcpp to set build time options\n",
      "  2022-05-06 12:23:32 ocn \n",
      "   Calling /glade/work/klindsay/cesm2_tags/cesm2.2.0/cime/../components/pop//cime_config/buildnml\n",
      "     ... buildnml: calling pop buildcpp to set build time options\n",
      "  2022-05-06 12:23:34 rof \n",
      "   Calling /glade/work/klindsay/cesm2_tags/cesm2.2.0/cime/src/components/data_comps_mct/drof/cime_config/buildnml\n",
      "  2022-05-06 12:23:34 glc \n",
      "   Calling /glade/work/klindsay/cesm2_tags/cesm2.2.0/cime/src/components/stub_comps_mct/sglc/cime_config/buildnml\n",
      "  2022-05-06 12:23:34 wav \n",
      "   Calling /glade/work/klindsay/cesm2_tags/cesm2.2.0/cime/../components/ww3//cime_config/buildnml\n",
      "  2022-05-06 12:23:34 iac \n",
      "   Running /glade/work/klindsay/cesm2_tags/cesm2.2.0/cime/src/components/stub_comps_mct/siac/cime_config/buildnml \n",
      "  2022-05-06 12:23:35 esp \n",
      "   Calling /glade/work/klindsay/cesm2_tags/cesm2.2.0/cime/src/components/stub_comps_mct/sesp/cime_config/buildnml\n",
      "  2022-05-06 12:23:35 cpl \n",
      "   Calling /glade/work/klindsay/cesm2_tags/cesm2.2.0/cime/src/drivers/mct/cime_config/buildnml\n",
      "Building gptl with output to file /glade/scratch/mclong/smyle-fosi.regional.lat-range-basin.constant-in-time.000/bld/gptl.bldlog.220506-122330\n",
      "   Calling /glade/work/klindsay/cesm2_tags/cesm2.2.0/cime/src/build_scripts/buildlib.gptl\n",
      "Building mct with output to file /glade/scratch/mclong/smyle-fosi.regional.lat-range-basin.constant-in-time.000/bld/mct.bldlog.220506-122330\n",
      "   Calling /glade/work/klindsay/cesm2_tags/cesm2.2.0/cime/src/build_scripts/buildlib.mct\n",
      "Building pio with output to file /glade/scratch/mclong/smyle-fosi.regional.lat-range-basin.constant-in-time.000/bld/pio.bldlog.220506-122330\n",
      "   Calling /glade/work/klindsay/cesm2_tags/cesm2.2.0/cime/src/build_scripts/buildlib.pio\n",
      "Component pio build complete with 2 warnings\n",
      "Building csm_share with output to file /glade/scratch/mclong/smyle-fosi.regional.lat-range-basin.constant-in-time.000/bld/csm_share.bldlog.220506-122330\n",
      "   Calling /glade/work/klindsay/cesm2_tags/cesm2.2.0/cime/src/build_scripts/buildlib.csm_share\n",
      "Component csm_share build complete with 20 warnings\n",
      "         - Building atm Library \n",
      "Building atm with output to /glade/scratch/mclong/smyle-fosi.regional.lat-range-basin.constant-in-time.000/bld/atm.bldlog.220506-122330\n",
      "         - Building lnd Library \n",
      "Building lnd with output to /glade/scratch/mclong/smyle-fosi.regional.lat-range-basin.constant-in-time.000/bld/lnd.bldlog.220506-122330\n",
      "         - Building ice Library \n",
      "Building ice with output to /glade/scratch/mclong/smyle-fosi.regional.lat-range-basin.constant-in-time.000/bld/ice.bldlog.220506-122330\n",
      "         - Building ocn Library \n",
      "Building ocn with output to /glade/scratch/mclong/smyle-fosi.regional.lat-range-basin.constant-in-time.000/bld/ocn.bldlog.220506-122330\n",
      "         - Building rof Library \n",
      "Building rof with output to /glade/scratch/mclong/smyle-fosi.regional.lat-range-basin.constant-in-time.000/bld/rof.bldlog.220506-122330\n",
      "         - Building glc Library \n",
      "Building glc with output to /glade/scratch/mclong/smyle-fosi.regional.lat-range-basin.constant-in-time.000/bld/glc.bldlog.220506-122330\n",
      "         - Building wav Library \n",
      "Building wav with output to /glade/scratch/mclong/smyle-fosi.regional.lat-range-basin.constant-in-time.000/bld/wav.bldlog.220506-122330\n",
      "         - Building iac Library \n",
      "Building iac with output to /glade/scratch/mclong/smyle-fosi.regional.lat-range-basin.constant-in-time.000/bld/iac.bldlog.220506-122330\n",
      "         - Building esp Library \n",
      "Building esp with output to /glade/scratch/mclong/smyle-fosi.regional.lat-range-basin.constant-in-time.000/bld/esp.bldlog.220506-122330\n",
      "sglc built in 2.314184 seconds\n",
      "sesp built in 2.351040 seconds\n",
      "siac built in 2.401839 seconds\n",
      "slnd built in 2.420738 seconds\n",
      "drof built in 5.200929 seconds\n",
      "datm built in 7.402447 seconds\n",
      "ww built in 33.469460 seconds\n",
      "Component ice build complete with 1 warnings\n",
      "cice built in 75.627772 seconds\n",
      "Component ocn build complete with 13 warnings\n",
      "pop built in 453.179024 seconds\n",
      "Building cesm from /glade/work/klindsay/cesm2_tags/cesm2.2.0/cime/src/drivers/mct/cime_config/buildexe with output to /glade/scratch/mclong/smyle-fosi.regional.lat-range-basin.constant-in-time.000/bld/cesm.bldlog.220506-122330 \n",
      "Time spent not building: 5.126174 sec\n",
      "Time spent building: 634.217985 sec\n",
      "MODEL BUILD HAS FINISHED SUCCESSFULLY\n"
     ]
    },
    {
     "name": "stderr",
     "output_type": "stream",
     "text": [
      "\n",
      "env_batch.xml appears to have changed, regenerating batch scripts\n",
      "manual edits to these file will be lost!\n",
      "\n"
     ]
    },
    {
     "name": "stdout",
     "output_type": "stream",
     "text": [
      "Creating batch scripts\n",
      "Writing case.run script from input template /glade/work/klindsay/cesm2_tags/cesm2.2.0/cime/config/cesm/machines/template.case.run\n",
      "Creating file .case.run\n",
      "Writing case.st_archive script from input template /glade/work/klindsay/cesm2_tags/cesm2.2.0/cime/config/cesm/machines/template.st_archive\n",
      "Creating file case.st_archive\n",
      "Setting Environment OMP_STACKSIZE=1024M\n",
      "Setting Environment TMPDIR=/glade/scratch/mclong\n",
      "Setting Environment MPI_TYPE_DEPTH=16\n",
      "Setting Environment MPI_IB_CONGESTED=1\n",
      "Setting resource.RLIMIT_STACK to -1 from (307200000, -1)\n",
      "GET_REFCASE is false, the user is expected to stage the refcase to the run directory.\n",
      "Creating component namelists\n",
      "  2022-05-06 12:34:28 atm \n",
      "   Calling /glade/work/klindsay/cesm2_tags/cesm2.2.0/cime/src/components/data_comps_mct/datm/cime_config/buildnml\n",
      "  2022-05-06 12:34:28 lnd \n",
      "   Calling /glade/work/klindsay/cesm2_tags/cesm2.2.0/cime/src/components/stub_comps_mct/slnd/cime_config/buildnml\n",
      "  2022-05-06 12:34:28 ice \n",
      "   Calling /glade/work/klindsay/cesm2_tags/cesm2.2.0/cime/../components/cice//cime_config/buildnml\n",
      "  2022-05-06 12:34:29 ocn \n",
      "   Calling /glade/work/klindsay/cesm2_tags/cesm2.2.0/cime/../components/pop//cime_config/buildnml\n",
      "  2022-05-06 12:34:30 rof \n",
      "   Calling /glade/work/klindsay/cesm2_tags/cesm2.2.0/cime/src/components/data_comps_mct/drof/cime_config/buildnml\n",
      "  2022-05-06 12:34:30 glc \n",
      "   Calling /glade/work/klindsay/cesm2_tags/cesm2.2.0/cime/src/components/stub_comps_mct/sglc/cime_config/buildnml\n",
      "  2022-05-06 12:34:30 wav \n",
      "   Calling /glade/work/klindsay/cesm2_tags/cesm2.2.0/cime/../components/ww3//cime_config/buildnml\n",
      "  2022-05-06 12:34:30 iac \n",
      "   Running /glade/work/klindsay/cesm2_tags/cesm2.2.0/cime/src/components/stub_comps_mct/siac/cime_config/buildnml \n",
      "  2022-05-06 12:34:30 esp \n",
      "   Calling /glade/work/klindsay/cesm2_tags/cesm2.2.0/cime/src/components/stub_comps_mct/sesp/cime_config/buildnml\n",
      "  2022-05-06 12:34:30 cpl \n",
      "   Calling /glade/work/klindsay/cesm2_tags/cesm2.2.0/cime/src/drivers/mct/cime_config/buildnml\n",
      "Checking that inputdata is available as part of case submission\n",
      "Setting Environment OMP_STACKSIZE=1024M\n",
      "Setting Environment TMPDIR=/glade/scratch/mclong\n",
      "Setting Environment MPI_TYPE_DEPTH=16\n",
      "Setting Environment MPI_IB_CONGESTED=1\n",
      "Setting resource.RLIMIT_STACK to -1 from (-1, -1)\n",
      "Loading input file list: 'Buildconf/cpl.input_data_list'\n",
      "Loading input file list: 'Buildconf/pop.input_data_list'\n",
      "Loading input file list: 'Buildconf/ww3.input_data_list'\n",
      "Loading input file list: 'Buildconf/datm.input_data_list'\n",
      "Loading input file list: 'Buildconf/drof.input_data_list'\n",
      "Loading input file list: 'Buildconf/cice.input_data_list'\n",
      "GET_REFCASE is false, the user is expected to stage the refcase to the run directory.\n",
      "GET_REFCASE is false, the user is expected to stage the refcase to the run directory.\n",
      "Creating component namelists\n",
      "  2022-05-06 12:34:32 atm \n",
      "  2022-05-06 12:34:32 lnd \n",
      "  2022-05-06 12:34:32 ice \n",
      "  2022-05-06 12:34:32 ocn \n",
      "  2022-05-06 12:34:32 rof \n",
      "  2022-05-06 12:34:32 glc \n",
      "  2022-05-06 12:34:32 wav \n",
      "  2022-05-06 12:34:32 iac \n",
      "  2022-05-06 12:34:32 esp \n",
      "  2022-05-06 12:34:32 cpl \n",
      "Check case OK\n",
      "Submitting job script qsub -q economy -l walltime=12:00:00 -A P93300670 -m ea -v ARGS_FOR_SCRIPT='--resubmit' .case.run\n"
     ]
    },
    {
     "name": "stderr",
     "output_type": "stream",
     "text": [
      "submit_jobs case.run\n",
      "Submit job case.run\n"
     ]
    },
    {
     "name": "stdout",
     "output_type": "stream",
     "text": [
      "Submitted job id is 4096384.chadmin1.ib0.cheyenne.ucar.edu\n",
      "Submitting job script qsub -q economy -l walltime=12:00:00 -A P93300670  -W depend=afterok:4096384.chadmin1.ib0.cheyenne.ucar.edu -m ea -v ARGS_FOR_SCRIPT='--resubmit' case.st_archive\n",
      "Submitted job id is 4096386.chadmin1.ib0.cheyenne.ucar.edu\n",
      "Submitted job case.run with id 4096384.chadmin1.ib0.cheyenne.ucar.edu\n",
      "Submitted job case.st_archive with id 4096386.chadmin1.ib0.cheyenne.ucar.edu\n"
     ]
    },
    {
     "name": "stderr",
     "output_type": "stream",
     "text": [
      "Submit job case.st_archive\n"
     ]
    }
   ],
   "source": [
    "run_settings = dict(\n",
    "    stop_n=6,\n",
    "    stop_option=\"nyear\",\n",
    "    job_queue=\"economy\",\n",
    "    wallclock=\"12:00:00\",\n",
    ")\n",
    "\n",
    "for f in forcing_files:\n",
    "    alk_forcing = os.path.basename(f).replace('.nc', '')\n",
    "    case = f\"smyle-fosi.{alk_forcing_spec}.{alk_forcing}\"\n",
    "    oae_smyle.create_clone(\n",
    "        case, alk_forcing_file=f, submit=True, clobber=False, **run_settings\n",
    "    )"
   ]
  },
  {
   "cell_type": "code",
   "execution_count": null,
   "id": "32e03e42-7f25-4dae-a7a7-46f220967c60",
   "metadata": {},
   "outputs": [],
   "source": []
  }
 ],
 "metadata": {
  "kernelspec": {
   "display_name": "Python [conda env:miniconda3-_unison]",
   "language": "python",
   "name": "conda-env-miniconda3-_unison-py"
  },
  "language_info": {
   "codemirror_mode": {
    "name": "ipython",
    "version": 3
   },
   "file_extension": ".py",
   "mimetype": "text/x-python",
   "name": "python",
   "nbconvert_exporter": "python",
   "pygments_lexer": "ipython3",
   "version": "3.7.12"
  }
 },
 "nbformat": 4,
 "nbformat_minor": 5
}
